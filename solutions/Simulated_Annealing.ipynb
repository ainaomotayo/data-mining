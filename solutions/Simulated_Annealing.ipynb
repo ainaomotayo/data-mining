{
 "cells": [
  {
   "cell_type": "markdown",
   "metadata": {},
   "source": [
    "Simulated annealing is a method for solving unconstrained and bound-constrained optimization problems.\n",
    "The method models the physical process of heating a material and then slowly lowering the temperature \n",
    "to decrease defects, thus minimizing the system energy.\n",
    "\n",
    "At each iteration of the simulated annealing algorithm, a new point is randomly generated. \n",
    "The distance of the new point from the current point, or the extent of the search, \n",
    "is based on a probability distribution with a scale proportional to the temperature. \n",
    "The algorithm accepts all new points that lower the objective, \n",
    "but also, with a certain probability, points that raise the objective. \n",
    "By accepting points that raise the objective, the algorithm avoids being trapped in local minima, \n",
    "and is able to explore globally for more possible solutions. \n",
    "An annealing schedule is selected to systematically decrease the temperature as the algorithm proceeds. \n",
    "As the temperature decreases, the algorithm reduces the extent of its search to converge to a minimum."
   ]
  },
  {
   "cell_type": "code",
   "execution_count": 1,
   "metadata": {},
   "outputs": [],
   "source": [
    "import os\n",
    "import numpy as ny\n",
    "from numpy import *\n",
    "from collections import Counter\n",
    "import matplotlib.pyplot as plt\n",
    "%matplotlib inline\n",
    "from sklearn import datasets"
   ]
  },
  {
   "cell_type": "markdown",
   "metadata": {},
   "source": [
    "Contour Plot - RosenBrock Function"
   ]
  },
  {
   "cell_type": "code",
   "execution_count": 2,
   "metadata": {},
   "outputs": [],
   "source": [
    "def contour_plot_rosenbrock(x_lim,y_lim,step):\n",
    "    s = step\n",
    "    x = ny.arange(-x_lim, x_lim, s)\n",
    "    #print(x)\n",
    "    y = ny.arange(-y_lim, y_lim, s)\n",
    "    X,Y = ny.meshgrid(x,y)\n",
    "    Z = (1-X)**2 + 100*(X**2 - Y)**2\n",
    "    plt.figure(figsize=(8, 6))\n",
    "    cp = plt.contourf(X,Y,Z,ny.logspace(-3, 3, 50))"
   ]
  },
  {
   "cell_type": "code",
   "execution_count": 3,
   "metadata": {},
   "outputs": [
    {
     "data": {
      "image/png": "[encoded data removed]",
      "text/plain": [
       "<matplotlib.figure.Figure at 0x107540f28>"
      ]
     },
     "metadata": {},
     "output_type": "display_data"
    }
   ],
   "source": [
    "contour_plot_rosenbrock(3,3,0.01)"
   ]
  },
  {
   "cell_type": "code",
   "execution_count": 4,
   "metadata": {},
   "outputs": [],
   "source": [
    "class SimulaledAnnealing(object):\n",
    "    \n",
    "    def __init__(self,temp, delTemp,freezePoint):\n",
    "        self.temp = temp\n",
    "        self.delTemp= delTemp\n",
    "        self.freezePoint = freezePoint\n",
    "    \n",
    "    def cost(self,x,y):\n",
    "        return 100*(x**2 -y)**2 + ((1-x)**2)\n",
    "\n",
    "    def neighbor(self,n):\n",
    "        y = []\n",
    "        for i in (0,n):\n",
    "            y.append(random.uniform(-2.78,2.78))\n",
    "        return y\n",
    "\n",
    "    def acceptance_probability(self,old_cost,new_cost,T):\n",
    "        return ny.exp((old_cost-new_cost)/T)\n",
    " \n",
    "    def anneal(self,solution):\n",
    "        old_cost = self.cost(solution[0],solution[1])\n",
    "        while self.temp > self.freezePoint:\n",
    "            new_solution = self.neighbor(len(solution))\n",
    "            new_cost = self.cost(new_solution[0],new_solution[1])\n",
    "            if new_cost < old_cost:\n",
    "                solution = new_solution\n",
    "                old_cost = new_cost\n",
    "            else:\n",
    "                ap = self.acceptance_probability(old_cost, new_cost, self.temp)\n",
    "                if ap > 0.5:\n",
    "                    solution = new_solution\n",
    "                    old_cost = new_cost\n",
    "            self.temp = self.temp*self.delTemp\n",
    "        return solution, old_cost\n",
    " \n"
   ]
  },
  {
   "cell_type": "code",
   "execution_count": 5,
   "metadata": {},
   "outputs": [
    {
     "name": "stdout",
     "output_type": "stream",
     "text": [
      "([0.9036846253798179, 0.8235608713561771], 0.014058331303420976)\n"
     ]
    }
   ],
   "source": [
    "san = SimulaledAnnealing(temp = 1100,delTemp = 0.999,freezePoint = 0.0001)\n",
    "init_sol = san.neighbor(2)\n",
    "final_sol = san.anneal(init_sol)\n",
    "print(final_sol)"
   ]
  }
 ],
 "metadata": {
  "celltoolbar": "Raw Cell Format",
  "kernelspec": {
   "display_name": "Python 3",
   "language": "python",
   "name": "python3"
  },
  "language_info": {
   "codemirror_mode": {
    "name": "ipython",
    "version": 3
   },
   "file_extension": ".py",
   "mimetype": "text/x-python",
   "name": "python",
   "nbconvert_exporter": "python",
   "pygments_lexer": "ipython3",
   "version": "3.5.2"
  }
 },
 "nbformat": 4,
 "nbformat_minor": 1
}
